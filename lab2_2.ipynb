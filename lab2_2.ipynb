version https://git-lfs.github.com/spec/v1
oid sha256:1e9e9056171b6c5e34c9b719ea260b5ac30fcbef31412bb9e2785be5d7a49427
size 712709
